{
  "cells": [
    {
      "cell_type": "markdown",
      "metadata": {
        "id": "IfftAXX8rmgp"
      },
      "source": [
        "#**Penyisihan Hology 7 Data Mining Competition 2024**\n",
        "\n",
        "Tisu Wajah Indomaret\n",
        "*   Muhammad Rajendra Alkautsar Dikna\n",
        "*   Hironemus Apriliano Diesa Putra\n",
        "*   Salma Adzra Fathina\n",
        "\n",
        "\n"
      ]
    },
    {
      "cell_type": "markdown",
      "metadata": {
        "id": "rGufjb9ar9ti"
      },
      "source": [
        "##Import Libraries"
      ]
    },
    {
      "cell_type": "code",
      "execution_count": 1,
      "metadata": {
        "colab": {
          "base_uri": "https://localhost:8080/",
          "height": 269
        },
        "id": "jWi54EXJreDn",
        "outputId": "7d16ed5e-5929-448d-a81f-d6b2b257baeb"
      },
      "outputs": [
        {
          "name": "stderr",
          "output_type": "stream",
          "text": [
            "d:\\Hology\\.venv\\Lib\\site-packages\\tqdm\\auto.py:21: TqdmWarning: IProgress not found. Please update jupyter and ipywidgets. See https://ipywidgets.readthedocs.io/en/stable/user_install.html\n",
            "  from .autonotebook import tqdm as notebook_tqdm\n"
          ]
        }
      ],
      "source": [
        "import os\n",
        "import pandas as pd\n",
        "from PIL import Image\n",
        "import torch\n",
        "import torch.optim as optim\n",
        "from torch.utils.data import Dataset, DataLoader, WeightedRandomSampler\n",
        "from torchvision import transforms, models\n",
        "import matplotlib.pyplot as plt\n",
        "import seaborn as sns\n",
        "import optuna"
      ]
    },
    {
      "cell_type": "markdown",
      "metadata": {
        "id": "FiuWr3uSsMTt"
      },
      "source": [
        "##Load Dataset"
      ]
    },
    {
      "cell_type": "code",
      "execution_count": 2,
      "metadata": {
        "id": "SewGlalVreDn"
      },
      "outputs": [],
      "source": [
        "csv_file = \"train.csv\"\n",
        "img_dir = \"train/train\"\n",
        "df = pd.read_csv(csv_file)"
      ]
    },
    {
      "cell_type": "code",
      "execution_count": 3,
      "metadata": {
        "id": "E8P7wTGfreDo"
      },
      "outputs": [],
      "source": [
        "def check_file_extensions(folder_path):\n",
        "    extensions = set()  # Menggunakan set untuk menghindari duplikasi\n",
        "    # Menelusuri semua file dalam folder\n",
        "    for filename in os.listdir(folder_path):\n",
        "        # Memastikan kita hanya memproses file, bukan folder\n",
        "        if os.path.isfile(os.path.join(folder_path, filename)):\n",
        "            # Mengambil ekstensi file\n",
        "            ext = os.path.splitext(filename)[1]  # Mendapatkan ekstensi\n",
        "            extensions.add(ext)  # Menambahkan ke set\n",
        "\n",
        "    return extensions"
      ]
    },
    {
      "cell_type": "code",
      "execution_count": 4,
      "metadata": {
        "id": "AqZiqEANreDo",
        "outputId": "0af397a0-2ab9-493b-d364-281014469042"
      },
      "outputs": [
        {
          "name": "stdout",
          "output_type": "stream",
          "text": [
            "File extensions found in the folder:\n",
            "{'.png', '.jpg'}\n"
          ]
        }
      ],
      "source": [
        "file_extensions = check_file_extensions(img_dir)\n",
        "\n",
        "print(\"File extensions found in the folder:\")\n",
        "print(file_extensions)"
      ]
    },
    {
      "cell_type": "code",
      "execution_count": 5,
      "metadata": {
        "id": "rPdljohvreDo"
      },
      "outputs": [],
      "source": [
        "# Custom Dataset Class\n",
        "class CustomDataset(Dataset):\n",
        "    def __init__(self, csv_file, img_dir, transform=None):\n",
        "        self.img_labels = pd.read_csv(csv_file)\n",
        "        self.img_dir = img_dir\n",
        "        self.transform = transform\n",
        "\n",
        "    def __len__(self):\n",
        "        return len(self.img_labels)\n",
        "\n",
        "    def __getitem__(self, idx):\n",
        "        img_id = self.img_labels.iloc[idx, 0]  # Get image ID\n",
        "        jenis_label = self.img_labels.iloc[idx, 1]  # Get label 'jenis'\n",
        "        warna_label = self.img_labels.iloc[idx, 2]  # Get label 'warna\n",
        "\n",
        "        # Cek apakah gambar ada dalam format jpg atau png\n",
        "        img_path_jpg = os.path.join(self.img_dir, f\"{img_id}.jpg\")\n",
        "        img_path_png = os.path.join(self.img_dir, f\"{img_id}.png\")\n",
        "\n",
        "        if os.path.exists(img_path_jpg):\n",
        "            img_path = img_path_jpg\n",
        "        elif os.path.exists(img_path_png):\n",
        "            img_path = img_path_png\n",
        "        else:\n",
        "            raise FileNotFoundError(f\"Image {img_id} not found in JPG or PNG format.\")\n",
        "\n",
        "        # Load the image\n",
        "        image = Image.open(img_path)\n",
        "\n",
        "        if self.transform:\n",
        "            image = self.transform(image)\n",
        "\n",
        "        return image, torch.tensor(jenis_label), torch.tensor(warna_label)"
      ]
    },
    {
      "cell_type": "markdown",
      "metadata": {
        "id": "m2Sp63ojsTHJ"
      },
      "source": [
        "##Data Analysis"
      ]
    },
    {
      "cell_type": "code",
      "execution_count": 6,
      "metadata": {
        "id": "Ouk5053HreDo",
        "outputId": "11e2ab61-5c23-4f16-c946-857f9c368896"
      },
      "outputs": [
        {
          "name": "stderr",
          "output_type": "stream",
          "text": [
            "C:\\Users\\lmaos\\AppData\\Local\\Temp\\ipykernel_26336\\1648512334.py:3: FutureWarning: \n",
            "\n",
            "Passing `palette` without assigning `hue` is deprecated and will be removed in v0.14.0. Assign the `x` variable to `hue` and set `legend=False` for the same effect.\n",
            "\n",
            "  sns.countplot(x='jenis', data=df, palette='viridis')\n"
          ]
        },
        {
          "data": {
            "image/png": "[encoded data removed]",
            "text/plain": [
              "<Figure size 800x600 with 1 Axes>"
            ]
          },
          "metadata": {},
          "output_type": "display_data"
        }
      ],
      "source": [
        "# Plot Distribution for 'Jenis'\n",
        "plt.figure(figsize=(8, 6))\n",
        "sns.countplot(x='jenis', data=df, palette='viridis')\n",
        "plt.title('Distribusi Jenis (Kaos vs Hoodie)')\n",
        "plt.xlabel('Jenis')\n",
        "plt.ylabel('Count')\n",
        "plt.xticks(ticks=[0, 1], labels=['Kaos', 'Hoodie']) #0 kaos, 1 hoodie\n",
        "plt.show()"
      ]
    },
    {
      "cell_type": "code",
      "execution_count": 7,
      "metadata": {
        "id": "qfsvGn35reDo",
        "outputId": "d9f6c311-ec18-4b25-ca04-1eb5ca8811fc"
      },
      "outputs": [
        {
          "name": "stderr",
          "output_type": "stream",
          "text": [
            "C:\\Users\\lmaos\\AppData\\Local\\Temp\\ipykernel_26336\\1158662238.py:3: FutureWarning: \n",
            "\n",
            "Passing `palette` without assigning `hue` is deprecated and will be removed in v0.14.0. Assign the `x` variable to `hue` and set `legend=False` for the same effect.\n",
            "\n",
            "  sns.countplot(x='warna', data=df, palette='coolwarm')\n"
          ]
        },
        {
          "data": {
            "image/png": "[encoded data removed]",
            "text/plain": [
              "<Figure size 800x600 with 1 Axes>"
            ]
          },
          "metadata": {},
          "output_type": "display_data"
        }
      ],
      "source": [
        "# Plot Distribution for 'Warna'\n",
        "plt.figure(figsize=(8, 6))\n",
        "sns.countplot(x='warna', data=df, palette='coolwarm')\n",
        "plt.title('Distribusi Warna')\n",
        "plt.xlabel('Warna')\n",
        "plt.ylabel('Count')\n",
        "plt.xticks(ticks=[0, 1, 2, 3, 4], labels=['Merah', 'Kuning', 'Biru', 'Hitam', 'Putih'])\n",
        "plt.show()"
      ]
    },
    {
      "cell_type": "markdown",
      "metadata": {
        "id": "vlf95A1EskJg"
      },
      "source": [
        "##Preprocessing"
      ]
    },
    {
      "cell_type": "code",
      "execution_count": 8,
      "metadata": {
        "id": "iKrsKaRmreDp"
      },
      "outputs": [],
      "source": [
        "transform = transforms.Compose([\n",
        "    transforms.Resize((224, 224)),\n",
        "    transforms.ToTensor(),          # Convert image to tensor\n",
        "    transforms.Normalize([0.485, 0.456, 0.406], [0.229, 0.224, 0.225])  # Normalize using ImageNet statistics\n",
        "])"
      ]
    },
    {
      "cell_type": "code",
      "execution_count": 9,
      "metadata": {
        "id": "opQ5xvsfreDp"
      },
      "outputs": [],
      "source": [
        "transform_2 = transforms.Compose([\n",
        "    transforms.RandomResizedCrop(224),\n",
        "    transforms.ToTensor(),\n",
        "    transforms.Normalize(mean=[0.485, 0.456, 0.406], std=[0.229, 0.224, 0.225]),\n",
        "])"
      ]
    },
    {
      "cell_type": "code",
      "execution_count": 10,
      "metadata": {
        "id": "rLSjqSHbreDp"
      },
      "outputs": [],
      "source": [
        "# Create Dataset\n",
        "dataset = CustomDataset(csv_file=csv_file, img_dir=img_dir, transform=transform)\n"
      ]
    },
    {
      "cell_type": "markdown",
      "metadata": {
        "id": "QPxnlJfTtACl"
      },
      "source": [
        "##Build the Model"
      ]
    },
    {
      "cell_type": "code",
      "execution_count": 11,
      "metadata": {
        "id": "U7aHebnCreDq",
        "outputId": "8acc830b-e2e5-4857-91c0-36651cb2d0d6"
      },
      "outputs": [
        {
          "name": "stderr",
          "output_type": "stream",
          "text": [
            "d:\\Hology\\.venv\\Lib\\site-packages\\torchvision\\models\\_utils.py:208: UserWarning: The parameter 'pretrained' is deprecated since 0.13 and may be removed in the future, please use 'weights' instead.\n",
            "  warnings.warn(\n",
            "d:\\Hology\\.venv\\Lib\\site-packages\\torchvision\\models\\_utils.py:223: UserWarning: Arguments other than a weight enum or `None` for 'weights' are deprecated since 0.13 and may be removed in the future. The current behavior is equivalent to passing `weights=ResNet50_Weights.IMAGENET1K_V1`. You can also use `weights=ResNet50_Weights.DEFAULT` to get the most up-to-date weights.\n",
            "  warnings.warn(msg)\n"
          ]
        }
      ],
      "source": [
        "import torch.nn as nn\n",
        "from torchvision import models\n",
        "\n",
        "# Load Pretrained ResNet50\n",
        "model = models.resnet50(pretrained=True)\n",
        "\n",
        "# Modify the fully connected layer for dual output\n",
        "num_ftrs = model.fc.in_features\n",
        "\n",
        "# Create a custom head with two separate outputs\n",
        "import torch\n",
        "import torch.nn as nn\n",
        "\n",
        "class MultiOutputModel(nn.Module):\n",
        "    def __init__(self, num_ftrs, num_classes_jenis, num_classes_warna, dropout_rate=0.5):\n",
        "        super(MultiOutputModel, self).__init__()\n",
        "        self.shared_layers = nn.Sequential(*list(model.children())[:-1])\n",
        "        self.dropout = nn.Dropout(dropout_rate)\n",
        "        self.fc_jenis = nn.Linear(num_ftrs, num_classes_jenis)\n",
        "        self.fc_warna = nn.Linear(num_ftrs, num_classes_warna)\n",
        "\n",
        "    def forward(self, x):\n",
        "        x = self.shared_layers(x)\n",
        "        x = torch.flatten(x, 1)\n",
        "        x = self.dropout(x)\n",
        "        jenis_output = self.fc_jenis(x)\n",
        "        warna_output = self.fc_warna(x)\n",
        "        return jenis_output, warna_output\n",
        "\n"
      ]
    },
    {
      "cell_type": "code",
      "execution_count": 12,
      "metadata": {
        "id": "89YR5lYNreDq"
      },
      "outputs": [],
      "source": [
        "# Move model to GPU if available\n",
        "device = torch.device(\"cuda\" if torch.cuda.is_available() else \"cpu\")"
      ]
    },
    {
      "cell_type": "code",
      "execution_count": 13,
      "metadata": {
        "id": "FxhU2H3UreDq"
      },
      "outputs": [],
      "source": [
        "num_classes_jenis = 2  # (0: Kaos, 1: Hoodie)\n",
        "num_classes_warna = 5  # (0: merah, 1: kuning, 2:biru, 3: hitam, 4:putih)"
      ]
    },
    {
      "cell_type": "markdown",
      "metadata": {
        "id": "JmpScDPotQyr"
      },
      "source": [
        "##Train the Model"
      ]
    },
    {
      "cell_type": "code",
      "execution_count": 14,
      "metadata": {
        "id": "ak39xYWrreDq"
      },
      "outputs": [],
      "source": [
        "best_model = None  # Global variable to store the best model\n",
        "best_accuracy = 0  # Store the best accuracy\n",
        "\n",
        "def train_and_evaluate(trial):\n",
        "    global best_model, best_accuracy  # Declare global to keep track of the best model\n",
        "    torch.manual_seed(42)\n",
        "\n",
        "    # Hyperparameters\n",
        "    learning_rate = trial.suggest_loguniform('learning_rate', 1e-5, 1e-1)\n",
        "    num_epochs = trial.suggest_int('num_epochs', 5, 30)\n",
        "    dropout_rate = trial.suggest_float('dropout_rate', 0.2, 0.5)\n",
        "\n",
        "    # Instantiate the model\n",
        "    num_classes_jenis = 2  # (0: Kaos, 1: Hoodie)\n",
        "    num_classes_warna = 5  # (0: merah, 1: kuning, 2:biru, 3: hitam, 4:putih)\n",
        "    model = MultiOutputModel(num_ftrs, num_classes_jenis, num_classes_warna, dropout_rate=dropout_rate)\n",
        "    model.to(device)\n",
        "\n",
        "    # Loss and optimizer\n",
        "    criterion_jenis = nn.CrossEntropyLoss()\n",
        "    criterion_warna = nn.CrossEntropyLoss()\n",
        "    optimizer = optim.Adam(model.parameters(), lr=learning_rate)\n",
        "\n",
        "    dataloader = DataLoader(dataset, batch_size=32, shuffle = True)\n",
        "\n",
        "    # Training loop\n",
        "    for epoch in range(num_epochs):\n",
        "        model.train()\n",
        "        for images, jenis_labels, warna_labels in dataloader:\n",
        "            images = images.to(device)\n",
        "            jenis_labels = jenis_labels.to(device)\n",
        "            warna_labels = warna_labels.to(device)\n",
        "\n",
        "            optimizer.zero_grad()\n",
        "            jenis_outputs, warna_outputs = model(images)\n",
        "            loss_jenis = criterion_jenis(jenis_outputs, jenis_labels)\n",
        "            loss_warna = criterion_warna(warna_outputs, warna_labels)\n",
        "            loss = loss_jenis + loss_warna\n",
        "            loss.backward()\n",
        "            optimizer.step()\n",
        "\n",
        "    # Evaluation loop on validation set\n",
        "    model.eval()\n",
        "    correct_jenis = 0\n",
        "    correct_warna = 0\n",
        "    total = 0\n",
        "    with torch.no_grad():\n",
        "        for images, jenis_labels, warna_labels in dataloader:\n",
        "            images = images.to(device)\n",
        "            jenis_labels = jenis_labels.to(device)\n",
        "            warna_labels = warna_labels.to(device)\n",
        "            jenis_outputs, warna_outputs = model(images)\n",
        "            _, jenis_predicted = torch.max(jenis_outputs.data, 1)\n",
        "            _, warna_predicted = torch.max(warna_outputs.data, 1)\n",
        "            total += jenis_labels.size(0)\n",
        "            correct_jenis += (jenis_predicted == jenis_labels).sum().item()\n",
        "            correct_warna += (warna_predicted == warna_labels).sum().item()\n",
        "\n",
        "    accuracy_jenis = correct_jenis / total\n",
        "    accuracy_warna = correct_warna / total\n",
        "    avg_accuracy = (accuracy_jenis + accuracy_warna) / 2\n",
        "\n",
        "    # Save the best model based on validation accuracy\n",
        "    if avg_accuracy > best_accuracy:\n",
        "        best_accuracy = avg_accuracy\n",
        "        best_model = model\n",
        "\n",
        "    # Return the average accuracy of the two tasks as the metric to optimize\n",
        "    return avg_accuracy\n"
      ]
    },
    {
      "cell_type": "markdown",
      "metadata": {
        "id": "iwdLnPektTO0"
      },
      "source": [
        "##Hyperparameter Tuning"
      ]
    },
    {
      "cell_type": "code",
      "execution_count": 15,
      "metadata": {
        "id": "cYGKVZ_UreDq",
        "outputId": "055b034d-6344-40b7-d5ad-a49d1c2aafcb"
      },
      "outputs": [
        {
          "name": "stderr",
          "output_type": "stream",
          "text": [
            "[I 2024-10-27 22:23:37,254] A new study created in memory with name: no-name-bd1a7484-a10a-4c06-a053-47669be0bf59\n",
            "C:\\Users\\lmaos\\AppData\\Local\\Temp\\ipykernel_26336\\32211384.py:9: FutureWarning: suggest_loguniform has been deprecated in v3.0.0. This feature will be removed in v6.0.0. See https://github.com/optuna/optuna/releases/tag/v3.0.0. Use suggest_float(..., log=True) instead.\n",
            "  learning_rate = trial.suggest_loguniform('learning_rate', 1e-5, 1e-1)\n",
            "[I 2024-10-27 22:24:13,155] Trial 0 finished with value: 0.9961389961389961 and parameters: {'learning_rate': 0.0003199686080563464, 'num_epochs': 7, 'dropout_rate': 0.3696027858016655}. Best is trial 0 with value: 0.9961389961389961.\n",
            "[I 2024-10-27 22:24:43,234] Trial 1 finished with value: 0.9652509652509653 and parameters: {'learning_rate': 0.0005572707372547444, 'num_epochs': 6, 'dropout_rate': 0.45412270685698053}. Best is trial 0 with value: 0.9961389961389961.\n",
            "[I 2024-10-27 22:25:32,925] Trial 2 finished with value: 0.9864864864864865 and parameters: {'learning_rate': 0.0006021962604327472, 'num_epochs': 7, 'dropout_rate': 0.33895525857108216}. Best is trial 0 with value: 0.9961389961389961.\n",
            "[I 2024-10-27 22:27:28,481] Trial 3 finished with value: 1.0 and parameters: {'learning_rate': 3.066184218060547e-05, 'num_epochs': 16, 'dropout_rate': 0.33160271499505733}. Best is trial 3 with value: 1.0.\n",
            "[I 2024-10-27 22:29:20,583] Trial 4 finished with value: 0.8223938223938224 and parameters: {'learning_rate': 0.0538007856744596, 'num_epochs': 22, 'dropout_rate': 0.413753974618828}. Best is trial 3 with value: 1.0.\n"
          ]
        },
        {
          "name": "stdout",
          "output_type": "stream",
          "text": [
            "Best hyperparameters:  {'learning_rate': 3.066184218060547e-05, 'num_epochs': 16, 'dropout_rate': 0.33160271499505733}\n",
            "Best trial value:  1.0\n"
          ]
        }
      ],
      "source": [
        "# Membuat studi Optuna\n",
        "study = optuna.create_study(direction='maximize')  # Kita ingin memaksimalkan akurasi\n",
        "study.optimize(train_and_evaluate, n_trials=5)\n",
        "\n",
        "# Menampilkan hasil\n",
        "print(\"Best hyperparameters: \", study.best_params)\n",
        "print(\"Best trial value: \", study.best_value)"
      ]
    },
    {
      "cell_type": "markdown",
      "metadata": {
        "id": "6Tlzi2QctWM_"
      },
      "source": [
        "##Test the Model"
      ]
    },
    {
      "cell_type": "code",
      "execution_count": 16,
      "metadata": {
        "id": "heo8tb7ereDq"
      },
      "outputs": [],
      "source": [
        "def predict_images(test_folder, device, best_model):\n",
        "    results = []\n",
        "\n",
        "    # Get a sorted list of image files based on numeric part of the file name\n",
        "    img_files = sorted(\n",
        "        [img_name for img_name in os.listdir(test_folder) if img_name.endswith(('.jpg', '.png'))],\n",
        "        key=lambda x: int(os.path.splitext(x)[0])  # Sort by the numeric part of the filename\n",
        "    )\n",
        "\n",
        "    for img_name in img_files:\n",
        "        img_id = os.path.splitext(img_name)[0]  # Get the ID from the file name\n",
        "        img_path = os.path.join(test_folder, img_name)\n",
        "\n",
        "        # Load and transform the image\n",
        "        image = Image.open(img_path).convert('RGB')  # Ensure image is in RGB mode\n",
        "        image = transform(image).unsqueeze(0)  # Add batch dimension\n",
        "        image = image.to(device)  # Move to the appropriate device\n",
        "\n",
        "        # Make predictions using the best model\n",
        "        with torch.no_grad():\n",
        "            jenis_output, warna_output = best_model(image)\n",
        "            _, jenis_predicted = torch.max(jenis_output.data, 1)\n",
        "            _, warna_predicted = torch.max(warna_output.data, 1)\n",
        "\n",
        "        # Store prediction results\n",
        "        results.append({\n",
        "            'id': int(img_id),  # Convert ID to integer for consistency\n",
        "            'jenis': jenis_predicted.item(),  # Get the predicted class value\n",
        "            'warna': warna_predicted.item()   # Get the predicted class value\n",
        "        })\n",
        "\n",
        "    return results\n"
      ]
    },
    {
      "cell_type": "markdown",
      "metadata": {
        "id": "RTnH1bnHtYKK"
      },
      "source": [
        "##Save the Predicted Data"
      ]
    },
    {
      "cell_type": "code",
      "execution_count": 19,
      "metadata": {
        "id": "DEE6radireDr",
        "outputId": "6ef5975d-e7ee-4bf3-c276-f7093b8b36dc"
      },
      "outputs": [
        {
          "name": "stdout",
          "output_type": "stream",
          "text": [
            "Submission file 'submission.csv' has been created successfully!\n"
          ]
        }
      ],
      "source": [
        "# Path ke folder gambar test\n",
        "test_folder = \"test/test\"  # Ganti dengan path ke folder test Anda\n",
        "\n",
        "# Melakukan prediksi\n",
        "predictions = predict_images(test_folder, device, best_model)\n",
        "\n",
        "# Membuat DataFrame dan menyimpan ke CSV\n",
        "submission_df = pd.DataFrame(predictions)\n",
        "submission_df.to_csv('submission_6.csv', index=False)  # Ganti dengan nama file yang diinginkan\n",
        "\n",
        "print(\"Submission file 'submission.csv' has been created successfully!\")"
      ]
    },
    {
      "cell_type": "code",
      "execution_count": 18,
      "metadata": {},
      "outputs": [
        {
          "name": "stdout",
          "output_type": "stream",
          "text": [
            "Model terbaik telah disimpan sebagai 'model/best_model.pth'\n"
          ]
        }
      ],
      "source": [
        "import os\n",
        "# Membuat folder 'model' jika belum ada\n",
        "os.makedirs('model', exist_ok=True)\n",
        "\n",
        "# Menyimpan model terbaik setelah proses training dan evaluasi\n",
        "torch.save(best_model.state_dict(), 'model/best_model.pth')\n",
        "print(\"Model terbaik telah disimpan sebagai 'model/best_model.pth'\")"
      ]
    },
    {
      "cell_type": "markdown",
      "metadata": {
        "id": "1a5u09cdtgsL"
      },
      "source": [
        "##Summary"
      ]
    },
    {
      "cell_type": "markdown",
      "metadata": {
        "id": "ocg1Q-ZHtixo"
      },
      "source": [
        "Model ini digunakan untuk klasifikasi multi label yang mampu mengkategorikan produk berdasarkan jenis dan warna menggunakan *Convolutional Neural Network* berbasis arsitektur **ResNet50** dari **PyTorch** yang telah di *pretrained* secara lokal.\n",
        "1. **Dataset**:\n",
        "   - Dataset produk berupa gambar berlabel jenis dan warna, dengan label yang disediakan dalam `train.csv`.\n",
        "   - Terdapat fungsi untuk memeriksa format file gambar (`.jpg` atau `.png`) dan *Custom Dataset Class* untuk mengakses gambar dan label.\n",
        "\n",
        "2. **Transformasi Gambar**:\n",
        "   - Melakukan tiga transformasi utama:\n",
        "     - *Resize* ke 224x224 piksel.\n",
        "     - Konversi gambar menjadi tensor.\n",
        "     - Normalisasi menggunakan *mean* dan *standard deviation* RGB dari dataset ImageNet.\n",
        "\n",
        "3. **Model Arsitektur**:\n",
        "   - Model menggunakan ResNet50 dengan layer fully connected dimodifikasi menjadi dua output terpisah untuk klasifikasi jenis dan warna.\n",
        "   - Teknik regularisasi Dropout diterapkan dengan rate 0.5.\n",
        "\n",
        "4. **Training dan Optimasi**:\n",
        "   - Digunakan *CrossEntropyLoss* untuk kedua output, jenis dan warna, dan optimizer Adam dengan *batch size* 32.\n",
        "   - Proses tuning menggunakan *Optuna* dengan *learning rate*, *num_epochs*, dan *dropout rate* sebagai hyperparameter. Hasil terbaik dari tuning:\n",
        "     - *Learning rate*: 0.000867\n",
        "     - *Epochs*: 10\n",
        "     - *Dropout rate*: 0.207\n",
        "     - Akurasi rata-rata tertinggi mencapai 0.9994 pada *trial* terbaik.\n",
        "\n",
        "5. **Prediksi pada Test Set**:\n",
        "   - Fungsi `predict_images` menghasilkan prediksi jenis dan warna dari gambar dalam folder `test/test`.\n",
        "   - Hasil prediksi disimpan dalam CSV `submission_6.csv`."
      ]
    }
  ],
  "metadata": {
    "colab": {
      "collapsed_sections": [
        "rGufjb9ar9ti",
        "FiuWr3uSsMTt",
        "m2Sp63ojsTHJ",
        "vlf95A1EskJg",
        "QPxnlJfTtACl",
        "JmpScDPotQyr",
        "iwdLnPektTO0",
        "6Tlzi2QctWM_",
        "RTnH1bnHtYKK"
      ],
      "provenance": []
    },
    "kernelspec": {
      "display_name": ".venv",
      "language": "python",
      "name": "python3"
    },
    "language_info": {
      "codemirror_mode": {
        "name": "ipython",
        "version": 3
      },
      "file_extension": ".py",
      "mimetype": "text/x-python",
      "name": "python",
      "nbconvert_exporter": "python",
      "pygments_lexer": "ipython3",
      "version": "3.11.8"
    }
  },
  "nbformat": 4,
  "nbformat_minor": 0
}
